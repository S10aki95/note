{
 "cells": [
  {
   "attachments": {},
   "cell_type": "markdown",
   "metadata": {},
   "source": [
    "# Baysian Predictive Synthesis\n",
    "\n",
    "## abstract\n",
    "\n",
    " Spatial data are characterized by their spatial dependence, which is often complex, non-linear, and difficult to capture with a single model. Significant levels of model uncertainty -- arising from these characteristics -- cannot be resolved by model selection or simple ensemble methods. We address this issue by proposing a novel methodology that captures spatially varying model uncertainty, which we call Bayesian spatial predictive synthesis. Our proposal is derived by identifying the theoretically best approximate model under reasonable conditions, which is a latent factor spatially varying coefficient model in the Bayesian predictive synthesis framework. We then show that our proposed method produces exact minimax predictive distributions, providing finite sample guarantees. Two MCMC strategies are implemented for full uncertainty quantification, as well as a variational inference strategy for fast point inference. We also extend the estimation strategy for general responses. Through simulation examples and two real data applications, we demonstrate that our proposed spatial Bayesian predictive synthesis outperforms standard spatial models and advanced machine learning methods in terms of predictive accuracy.\n",
    "\n",
    "## Ref\n",
    "\n",
    "- [http://arxiv.org/abs/2203.05197](http://arxiv.org/abs/2203.05197)"
   ]
  },
  {
   "cell_type": "code",
   "execution_count": 1,
   "metadata": {},
   "outputs": [],
   "source": [
    "import numpy as np\n",
    "from numpy.random import default_rng\n",
    "from copy import copy\n",
    "\n",
    "# visualize\n",
    "import arviz\n",
    "import matplotlib.pyplot as plt\n",
    "\n",
    "# cmdstanpy\n",
    "from cmdstanpy import CmdStanModel\n",
    "\n",
    "# random generator\n",
    "rg = default_rng(123)"
   ]
  },
  {
   "attachments": {},
   "cell_type": "markdown",
   "metadata": {},
   "source": [
    "## Method\n",
    "\n",
    "$$\n",
    "y_i = \\beta_{0i} + \\sum_{j = 1}^{J} \\beta_{ji}f_{ij} + \\epsilon_{i} \\quad \\epsilon_i \\sim N(0, \\sigma^2)\n",
    "$$\n",
    "\n",
    "$$\n",
    "\\boldsymbol{\\beta}_j  = (\\beta_{j1}, \\ldots \\beta_{jn})^T \\sim N(0, \\tau_j G(g_j))\n",
    "$$"
   ]
  },
  {
   "cell_type": "code",
   "execution_count": 2,
   "metadata": {},
   "outputs": [],
   "source": [
    "# data settings\n",
    "N = 1000\n",
    "J = 5\n",
    "\n",
    "# parameters\n",
    "tau = [0.1, 0.2, 0.3, 0.4, 0.5]\n",
    "sigma = 2.0\n",
    "all_beta = np.array(\n",
    "    [rg.multivariate_normal(np.zeros(N), tau[j] * np.eye(N)) for j in range(J)]\n",
    ").T\n",
    "\n",
    "f_matrix = rg.normal(size=(N, J))\n",
    "Y = (all_beta * f_matrix).sum(axis=1) + rg.normal(loc=0, scale=sigma, size=N)"
   ]
  },
  {
   "cell_type": "code",
   "execution_count": 3,
   "metadata": {},
   "outputs": [
    {
     "ename": "ValueError",
     "evalue": "no such file /home/akihiro/project/note/src/stan/BaysianPredictSynthesis.stan",
     "output_type": "error",
     "traceback": [
      "\u001b[0;31m---------------------------------------------------------------------------\u001b[0m",
      "\u001b[0;31mValueError\u001b[0m                                Traceback (most recent call last)",
      "\u001b[1;32m/home/akihiro/project/note/notebook/SpatialModel/BaysianPredictiveSynthesis.ipynb セル 5\u001b[0m line \u001b[0;36m2\n\u001b[1;32m      <a href='vscode-notebook-cell://wsl%2Bubuntu/home/akihiro/project/note/notebook/SpatialModel/BaysianPredictiveSynthesis.ipynb#W4sdnNjb2RlLXJlbW90ZQ%3D%3D?line=0'>1</a>\u001b[0m \u001b[39m# モデル読み込み\u001b[39;00m\n\u001b[0;32m----> <a href='vscode-notebook-cell://wsl%2Bubuntu/home/akihiro/project/note/notebook/SpatialModel/BaysianPredictiveSynthesis.ipynb#W4sdnNjb2RlLXJlbW90ZQ%3D%3D?line=1'>2</a>\u001b[0m model \u001b[39m=\u001b[39m CmdStanModel(stan_file\u001b[39m=\u001b[39;49m\u001b[39m\"\u001b[39;49m\u001b[39m../../src/stan/BaysianPredictSynthesis.stan\u001b[39;49m\u001b[39m\"\u001b[39;49m)\n\u001b[1;32m      <a href='vscode-notebook-cell://wsl%2Bubuntu/home/akihiro/project/note/notebook/SpatialModel/BaysianPredictiveSynthesis.ipynb#W4sdnNjb2RlLXJlbW90ZQ%3D%3D?line=3'>4</a>\u001b[0m \u001b[39m# モデル式\u001b[39;00m\n\u001b[1;32m      <a href='vscode-notebook-cell://wsl%2Bubuntu/home/akihiro/project/note/notebook/SpatialModel/BaysianPredictiveSynthesis.ipynb#W4sdnNjb2RlLXJlbW90ZQ%3D%3D?line=4'>5</a>\u001b[0m \u001b[39mprint\u001b[39m(\u001b[39m\"\u001b[39m\u001b[39m-------------------\u001b[39m\u001b[39m\"\u001b[39m)\n",
      "File \u001b[0;32m~/miniconda3/envs/pystan/lib/python3.9/site-packages/cmdstanpy/model.py:165\u001b[0m, in \u001b[0;36mCmdStanModel.__init__\u001b[0;34m(self, model_name, stan_file, exe_file, compile, stanc_options, cpp_options, user_header)\u001b[0m\n\u001b[1;32m    163\u001b[0m \u001b[39mself\u001b[39m\u001b[39m.\u001b[39m_stan_file \u001b[39m=\u001b[39m os\u001b[39m.\u001b[39mpath\u001b[39m.\u001b[39mrealpath(os\u001b[39m.\u001b[39mpath\u001b[39m.\u001b[39mexpanduser(stan_file))\n\u001b[1;32m    164\u001b[0m \u001b[39mif\u001b[39;00m \u001b[39mnot\u001b[39;00m os\u001b[39m.\u001b[39mpath\u001b[39m.\u001b[39mexists(\u001b[39mself\u001b[39m\u001b[39m.\u001b[39m_stan_file):\n\u001b[0;32m--> 165\u001b[0m     \u001b[39mraise\u001b[39;00m \u001b[39mValueError\u001b[39;00m(\u001b[39m'\u001b[39m\u001b[39mno such file \u001b[39m\u001b[39m{}\u001b[39;00m\u001b[39m'\u001b[39m\u001b[39m.\u001b[39mformat(\u001b[39mself\u001b[39m\u001b[39m.\u001b[39m_stan_file))\n\u001b[1;32m    166\u001b[0m _, filename \u001b[39m=\u001b[39m os\u001b[39m.\u001b[39mpath\u001b[39m.\u001b[39msplit(stan_file)\n\u001b[1;32m    167\u001b[0m \u001b[39mif\u001b[39;00m \u001b[39mlen\u001b[39m(filename) \u001b[39m<\u001b[39m \u001b[39m6\u001b[39m \u001b[39mor\u001b[39;00m \u001b[39mnot\u001b[39;00m filename\u001b[39m.\u001b[39mendswith(\u001b[39m'\u001b[39m\u001b[39m.stan\u001b[39m\u001b[39m'\u001b[39m):\n",
      "\u001b[0;31mValueError\u001b[0m: no such file /home/akihiro/project/note/src/stan/BaysianPredictSynthesis.stan"
     ]
    }
   ],
   "source": [
    "# モデル読み込み\n",
    "model = CmdStanModel(stan_file=\"../../src/stan/BaysianPredictSynthesis.stan\")\n",
    "\n",
    "# モデル式\n",
    "print(\"-------------------\")\n",
    "model.format()"
   ]
  },
  {
   "cell_type": "code",
   "execution_count": null,
   "metadata": {},
   "outputs": [],
   "source": [
    "# Data dict for stan\n",
    "stan_data = {\"N\": N, \"J\": J, \"y_obs\": Y, \"f_matrix\": f_matrix}\n",
    "\n",
    "# 計算\n",
    "res = model.sample(\n",
    "    data=stan_data,\n",
    "    iter_warmup=1500,\n",
    "    iter_sampling=500,\n",
    "    parallel_chains=4,\n",
    "    chains=4,\n",
    ")"
   ]
  },
  {
   "cell_type": "code",
   "execution_count": null,
   "metadata": {},
   "outputs": [],
   "source": [
    "arviz.plot_trace(\n",
    "    res,\n",
    "    var_names=[\"~beta\"],\n",
    "    legend=True,\n",
    "    divergences=None,\n",
    "    backend_kwargs={\"constrained_layout\": True},\n",
    ")"
   ]
  },
  {
   "cell_type": "code",
   "execution_count": null,
   "metadata": {},
   "outputs": [],
   "source": []
  }
 ],
 "metadata": {
  "kernelspec": {
   "display_name": "pystan",
   "language": "python",
   "name": "python3"
  },
  "language_info": {
   "codemirror_mode": {
    "name": "ipython",
    "version": 3
   },
   "file_extension": ".py",
   "mimetype": "text/x-python",
   "name": "python",
   "nbconvert_exporter": "python",
   "pygments_lexer": "ipython3",
   "version": "3.9.16"
  },
  "orig_nbformat": 4
 },
 "nbformat": 4,
 "nbformat_minor": 2
}
