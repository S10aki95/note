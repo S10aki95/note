{
 "cells": [
  {
   "attachments": {},
   "cell_type": "markdown",
   "metadata": {},
   "source": [
    "# 不連続回帰デザイン\n",
    "\n",
    "不連続回帰デザインの基本的な設定と実装を通じた理解を図る。\n",
    "\n",
    "# 目次\n",
    "\n",
    "- [Sharp RD](#sharp-rd)\n",
    "- [Fuzzy RD](#fuzzy-rd)\n",
    "\n",
    "---"
   ]
  },
  {
   "attachments": {},
   "cell_type": "markdown",
   "metadata": {},
   "source": [
    "## Sharp RD\n",
    "\n",
    "- 基本的な設定\n",
    "  - 推定目標効果：$\\lim_{x\\downarrow c} E[Y_i(1)| X = x] - \\lim_{x\\uparrow c} E[Y_i(0)| X = x]$\n",
    "  - ただし、目的変数 : $Y_i(D_i)$、処置：$D_i = 1\\{X \\geq c\\}$\n",
    "- ユースケース\n",
    "  - 購買額が一定以上の顧客にポイント還元を行ったとき、判断基準上の顧客がどのようにその後購買額を変化させるか\n",
    "- 推定方法\n",
    "  - [local linear regression (LLR)](#local-linear-regression-llrによる推定)\n",
    "  - 多項式近似\n",
    "- 派生的・応用的な利用方法"
   ]
  },
  {
   "attachments": {},
   "cell_type": "markdown",
   "metadata": {},
   "source": [
    "### local linear regression (LLR)による推定"
   ]
  },
  {
   "cell_type": "code",
   "execution_count": null,
   "metadata": {},
   "outputs": [],
   "source": []
  },
  {
   "attachments": {},
   "cell_type": "markdown",
   "metadata": {},
   "source": [
    "## Fuzzy RD"
   ]
  },
  {
   "attachments": {},
   "cell_type": "markdown",
   "metadata": {},
   "source": []
  },
  {
   "attachments": {},
   "cell_type": "markdown",
   "metadata": {},
   "source": [
    "# 参考文献\n",
    "\n",
    "- [[計量経済学] 非連続回帰デザイン (RDD) 理論編](https://ill-identified.hatenablog.com/entry/2014/12/07/160009)"
   ]
  },
  {
   "attachments": {},
   "cell_type": "markdown",
   "metadata": {},
   "source": []
  }
 ],
 "metadata": {
  "language_info": {
   "name": "python"
  },
  "orig_nbformat": 4
 },
 "nbformat": 4,
 "nbformat_minor": 2
}
